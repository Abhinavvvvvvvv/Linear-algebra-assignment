{
 "cells": [
  {
   "cell_type": "markdown",
   "id": "c1420930",
   "metadata": {},
   "source": [
    "# Linear Algebra Assignment"
   ]
  },
  {
   "cell_type": "markdown",
   "id": "5222df71",
   "metadata": {},
   "source": [
    "### Question 1\n",
    "Using auto-mpg data, find the top 5 similar cars to toyota corona mark ii"
   ]
  },
  {
   "cell_type": "code",
   "execution_count": null,
   "id": "67aa0659",
   "metadata": {
    "vscode": {
     "languageId": "plaintext"
    }
   },
   "outputs": [],
   "source": [
    "# Your code here"
   ]
  },
  {
   "cell_type": "markdown",
   "id": "8c9e5c34",
   "metadata": {},
   "source": [
    "### Question 2\n",
    "Find completely unique/orthogonal car to toyota corona mark ii"
   ]
  },
  {
   "cell_type": "code",
   "execution_count": null,
   "id": "249fe683",
   "metadata": {
    "vscode": {
     "languageId": "plaintext"
    }
   },
   "outputs": [],
   "source": [
    "# Your code here"
   ]
  },
  {
   "cell_type": "markdown",
   "id": "39d7a2d2",
   "metadata": {},
   "source": [
    "### Question 3\n",
    "Project the data to a 2-dimentional space and visualize using scatter plot"
   ]
  },
  {
   "cell_type": "code",
   "execution_count": null,
   "id": "7b04477f",
   "metadata": {
    "vscode": {
     "languageId": "plaintext"
    }
   },
   "outputs": [],
   "source": [
    "# Your code here"
   ]
  },
  {
   "cell_type": "markdown",
   "id": "7aa6151d",
   "metadata": {},
   "source": [
    "### Question 4\n",
    "Write a function that returns dot product of two list of numbers"
   ]
  },
  {
   "cell_type": "code",
   "execution_count": null,
   "id": "3cf99ab5",
   "metadata": {
    "vscode": {
     "languageId": "plaintext"
    }
   },
   "outputs": [],
   "source": [
    "# Your code here\n",
    "def your_function_21():\n",
    "    pass"
   ]
  },
  {
   "cell_type": "markdown",
   "id": "e6657c17",
   "metadata": {},
   "source": [
    "### Question 5\n",
    "Write a function that returns the projection of vector a onto vector b. Both a and b are given as list of numbers"
   ]
  },
  {
   "cell_type": "code",
   "execution_count": null,
   "id": "25a24bdc",
   "metadata": {
    "vscode": {
     "languageId": "plaintext"
    }
   },
   "outputs": [],
   "source": [
    "# Your code here\n",
    "def your_function_22():\n",
    "    pass"
   ]
  },
  {
   "cell_type": "markdown",
   "id": "219b6efc",
   "metadata": {},
   "source": [
    "### Question 6\n",
    "Create a class Vector that supports addition, dot product, and magnitude."
   ]
  },
  {
   "cell_type": "code",
   "execution_count": null,
   "id": "3aaaa102",
   "metadata": {
    "vscode": {
     "languageId": "plaintext"
    }
   },
   "outputs": [],
   "source": [
    "# Your code here\n",
    "def your_function_24():\n",
    "    pass"
   ]
  },
  {
   "cell_type": "markdown",
   "id": "5788f326",
   "metadata": {},
   "source": [
    "### Question 7\n",
    "Write a function that returns the L1 and L2 norms of a vector given as list"
   ]
  },
  {
   "cell_type": "code",
   "execution_count": null,
   "id": "6bc87def",
   "metadata": {
    "vscode": {
     "languageId": "plaintext"
    }
   },
   "outputs": [],
   "source": [
    "# Your code here\n",
    "def your_function_28():\n",
    "    pass"
   ]
  }
 ],
 "metadata": {
  "language_info": {
   "name": "python"
  }
 },
 "nbformat": 4,
 "nbformat_minor": 5
}
